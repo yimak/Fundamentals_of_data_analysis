{
 "cells": [
  {
   "cell_type": "markdown",
   "metadata": {},
   "source": [
    "# Fundamentals Data Analysis Tasks\n",
    "**Issam Chaaraddine**\n",
    "***"
   ]
  },
  {
   "cell_type": "markdown",
   "metadata": {},
   "source": [
    "## Task 1:\n",
    "> The Collatz conjecture1 is a famous unsolved problem in mathematics. The problem is to prove that if you start with any positive\n",
    "integer $x$ and repeatedly apply the function $f(x)$ below, you always get stuck in the repeating sequence 1, 4, 2, 1, 4, 2, . . ."
   ]
  },
  {
   "cell_type": "markdown",
   "metadata": {},
   "source": [
    "> First we will start by defining x, which will be a positive integer that will be subject to our calculation. We will start by using the keyword $def$ and assigning the parameter $x$ to a function named $f$. Then we will use $if$ $else$ statement, $if$ the remainder $%$ of $x$ divided by 2 is zero, the return will be the result of dividing $//$ the value of $x$ by two, otherwise or $else$ we should multiply by 3 and add 1.  "
   ]
  },
  {
   "cell_type": "code",
   "execution_count": null,
   "metadata": {},
   "outputs": [],
   "source": [
    "def f(x):\n",
    "    # If x is even, divide by 2\n",
    "    if x % 2 == 0:\n",
    "         return x // 2 \n",
    "    else:\n",
    "        return (3 * x) + 1\n"
   ]
  },
  {
   "cell_type": "markdown",
   "metadata": {},
   "source": [
    "> By defining $x$ on a $if$ $else$ statement we could only calculate one integer, now we will try to calculate the collatz conjecture until we reach the integer 1. The conjecture is that these sequences always reach 1, no matter which positive integer is chosen to start the sequence. So we will use the keyword $def$ and assign the parameter $x$ to a function collatz. Then we will use the command $while$ or while loop. As the name indicates, as long as the parameter $x$ does not equal 1, print the value of $x$ followed by a comma. Then assign that value to $f(x)$ and start all over again until we reach the integer 1."
   ]
  },
  {
   "cell_type": "code",
   "execution_count": null,
   "metadata": {},
   "outputs": [],
   "source": [
    "def collatz(x):    \n",
    "    while x != 1:\n",
    "        print(x, end=', ')\n",
    "        x=f(x)\n",
    "    print(x)"
   ]
  },
  {
   "cell_type": "markdown",
   "metadata": {},
   "source": [
    "> Somehow I find it easier to interpret by putting all the script together and changing the order:"
   ]
  },
  {
   "cell_type": "code",
   "execution_count": 27,
   "metadata": {},
   "outputs": [
    {
     "name": "stdout",
     "output_type": "stream",
     "text": [
      "1000, 500, 250, 125, 376, 188, 94, 47, 142, 71, 214, 107, 322, 161, 484, 242, 121, 364, 182, 91, 274, 137, 412, 206, 103, 310, 155, 466, 233, 700, 350, 175, 526, 263, 790, 395, 1186, 593, 1780, 890, 445, 1336, 668, 334, 167, 502, 251, 754, 377, 1132, 566, 283, 850, 425, 1276, 638, 319, 958, 479, 1438, 719, 2158, 1079, 3238, 1619, 4858, 2429, 7288, 3644, 1822, 911, 2734, 1367, 4102, 2051, 6154, 3077, 9232, 4616, 2308, 1154, 577, 1732, 866, 433, 1300, 650, 325, 976, 488, 244, 122, 61, 184, 92, 46, 23, 70, 35, 106, 53, 160, 80, 40, 20, 10, 5, 16, 8, 4, 2, 1\n"
     ]
    }
   ],
   "source": [
    "x = 1000\n",
    "while x != 1:\n",
    "    print(x, end=', ')\n",
    "    x=f(x)\n",
    "print(x)\n",
    "def f(x):\n",
    "    if x % 2 == 0:\n",
    "         return x // 2 \n",
    "    else:\n",
    "        return (3 * x) + 1"
   ]
  },
  {
   "cell_type": "markdown",
   "metadata": {},
   "source": [
    "## End"
   ]
  },
  {
   "cell_type": "markdown",
   "metadata": {},
   "source": [
    "**TASK 2**  \n",
    ">Give an overview of the famous penguins dataset, explaining the types of variables it contains. Suggest the types of variables that should be used to model them in Python, explaining your rationale."
   ]
  },
  {
   "cell_type": "markdown",
   "metadata": {},
   "source": [
    ">> The penguins dataset contains multiple variables: <br>\n",
    "* _Species - Island - Bill_length_mm - Bill_depth_mm - Flipper_length_mm - Body_mass_g - Sex_\n",
    ">> Starting a sepparation between both we have categorical and numerical categories; <br>\n",
    "* Categorical variables:   \n",
    "    _Species -  Island - Sex_  <br>\n",
    "    * Classification per Subcategory:  <br>\n",
    "        * Nominal: _Species - Island_  <br>\n",
    "        * Dichotomous: _Sex_\n",
    "        * Ordinal:  <br>\n",
    "* Quantitative variables:   \n",
    "    _Bill_length_mm - Bill_depth_mm - Flipper_length_mm - Body_mass_g_  <br>\n",
    "    * Classification per Subcategory:  <br>\n",
    "        * Interval:  <br>\n",
    "        * Ratio: _Bill_length_mm - Bill_depth_mm - Flipper_length_mm - Body_mass_g_  <br>\n",
    "https://www150.statcan.gc.ca/n1/edu/power-pouvoir/ch8/5214817-eng.htm   \n",
    "https://statistics.laerd.com/statistical-guides/types-of-variable.php\n"
   ]
  },
  {
   "cell_type": "markdown",
   "metadata": {},
   "source": [
    "**TASK 3**  \n",
    ">For each of the variables in the penguins dataset, suggest what probability data distribution from the numpy random distributions list is the most appropriate to model the variable. "
   ]
  },
  {
   "cell_type": "markdown",
   "metadata": {},
   "source": [
    "For the bill_length_mm variable, I believe the random.uniform method would be the most appropriate. Fiest we will represent the frequency of each number and plot them into a graphic to see how the values of bill_length would look like:"
   ]
  },
  {
   "cell_type": "code",
   "execution_count": 85,
   "metadata": {},
   "outputs": [
    {
     "data": {
      "image/png": "[encoded data removed]",
      "text/plain": [
       "<Figure size 1500x300 with 1 Axes>"
      ]
     },
     "metadata": {},
     "output_type": "display_data"
    }
   ],
   "source": [
    "import matplotlib.pyplot as plt\n",
    "import numpy as np\n",
    "import pandas as pd\n",
    "\n",
    "data = pd.read_csv('penguins.csv')\n",
    "\n",
    "bill_length_values = data['bill_length_mm']\n",
    "\n",
    "# Get unique values and their counts from the 'bill_length_mm' column\n",
    "unique_values = np.unique(bill_length_values)\n",
    "\n",
    "# Plotting the counts of each unique bill length value in a bar plot\n",
    "plt.figure(figsize=(15, 3))  # Set the figure size\n",
    "\n",
    "plt.hist(unique_values, bins=20, edgecolor='black')\n",
    "\n",
    "plt.title('Counts of Bill Lengths')\n",
    "plt.xlabel('Bill Length (mm)')\n",
    "plt.ylabel('Frequency')\n",
    "\n",
    "plt.show()"
   ]
  },
  {
   "cell_type": "markdown",
   "metadata": {},
   "source": [
    "From the image we can see how the bill length frequency describes a a bell curve line which would correspond to a random.normal variable:"
   ]
  },
  {
   "cell_type": "code",
   "execution_count": 102,
   "metadata": {},
   "outputs": [
    {
     "data": {
      "image/png": "[encoded data removed]",
      "text/plain": [
       "<Figure size 1500x300 with 1 Axes>"
      ]
     },
     "metadata": {},
     "output_type": "display_data"
    }
   ],
   "source": [
    "import matplotlib.pyplot as plt\n",
    "import numpy as np\n",
    "import pandas as pd\n",
    "\n",
    "rng = np.random.default_rng()\n",
    "\n",
    "low = 34.1\n",
    "high = 55.9 + 1\n",
    "size = 344\n",
    "\n",
    "#random.normal(loc=0.0, scale=1.0, size=None). We can start on loc=0 and scale=1 if we type rng.standard_normal()\n",
    "rand_ints = rng.normal(50, 3, size)\n",
    "unique_values = np.unique(rand_ints)\n",
    "\n",
    "# Create a histogram with plt.hist()\n",
    "plt.figure(figsize=(15, 3))  # Set the figure size\n",
    "plt.hist(rand_ints, bins=20, edgecolor='black')\n",
    "\n",
    "plt.title('Histogram of Random Floats')\n",
    "plt.xlabel('Value')\n",
    "plt.ylabel('Frequency')\n",
    "\n",
    "plt.show()\n"
   ]
  },
  {
   "cell_type": "markdown",
   "metadata": {},
   "source": [
    "For the Variable *Gender Male/Female*, we could represent this variable using the numpy.random.binomial distribution:"
   ]
  },
  {
   "cell_type": "code",
   "execution_count": 17,
   "metadata": {},
   "outputs": [
    {
     "data": {
      "text/plain": [
       "(array([178.,   0.,   0.,   0.,   0.,   0.,   0.,   0.,   0., 166.]),\n",
       " array([0. , 0.1, 0.2, 0.3, 0.4, 0.5, 0.6, 0.7, 0.8, 0.9, 1. ]),\n",
       " <BarContainer object of 10 artists>)"
      ]
     },
     "execution_count": 17,
     "metadata": {},
     "output_type": "execute_result"
    },
    {
     "data": {
      "image/png": "[encoded data removed]",
      "text/plain": [
       "<Figure size 640x480 with 1 Axes>"
      ]
     },
     "metadata": {},
     "output_type": "display_data"
    }
   ],
   "source": [
    "import numpy as np\n",
    "#g represents trials and p the probability of success\n",
    "g , p = 1, 0.5\n",
    "x = np.random.binomial(g,p, 344)\n",
    "plt.hist(x)"
   ]
  },
  {
   "cell_type": "markdown",
   "metadata": {},
   "source": [
    "As we can see from the plot, Male and Female gender will look very proportional. Counting the amont of gender Male and Female from our dataset will give us similar results:"
   ]
  },
  {
   "cell_type": "code",
   "execution_count": 24,
   "metadata": {},
   "outputs": [
    {
     "name": "stdout",
     "output_type": "stream",
     "text": [
      "sex\n",
      "MALE      168\n",
      "FEMALE    165\n",
      "Name: count, dtype: int64\n"
     ]
    }
   ],
   "source": [
    "import pandas as pd\n",
    "\n",
    "data = pd.read_csv('penguins.csv')\n",
    "\n",
    "# Extract values from 'sex' column\n",
    "gender = data['sex']\n",
    "\n",
    "value_counts = gender.value_counts()\n",
    "print(value_counts)\n"
   ]
  }
 ],
 "metadata": {
  "kernelspec": {
   "display_name": "base",
   "language": "python",
   "name": "python3"
  },
  "language_info": {
   "codemirror_mode": {
    "name": "ipython",
    "version": 3
   },
   "file_extension": ".py",
   "mimetype": "text/x-python",
   "name": "python",
   "nbconvert_exporter": "python",
   "pygments_lexer": "ipython3",
   "version": "3.10.9"
  },
  "orig_nbformat": 4
 },
 "nbformat": 4,
 "nbformat_minor": 2
}
