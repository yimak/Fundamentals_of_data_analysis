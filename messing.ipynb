{
 "cells": [
  {
   "cell_type": "code",
   "execution_count": 1,
   "metadata": {},
   "outputs": [
    {
     "name": "stdout",
     "output_type": "stream",
     "text": [
      "10, 5, 16, 8, 4, 2, 1\n"
     ]
    }
   ],
   "source": [
    "\n",
    "x = 10\n",
    "def f(x):\n",
    "    # If x is even, divide by 2\n",
    "    if x % 2 == 0:\n",
    "        return x // 2\n",
    "    else:\n",
    "        return (3 * x) + 1\n",
    "while x != 1:\n",
    "    print(x, end=', ')\n",
    "    x = f(x)\n",
    "\n",
    "print(x)"
   ]
  }
 ],
 "metadata": {
  "kernelspec": {
   "display_name": "base",
   "language": "python",
   "name": "python3"
  },
  "language_info": {
   "codemirror_mode": {
    "name": "ipython",
    "version": 3
   },
   "file_extension": ".py",
   "mimetype": "text/x-python",
   "name": "python",
   "nbconvert_exporter": "python",
   "pygments_lexer": "ipython3",
   "version": "3.10.9"
  },
  "orig_nbformat": 4
 },
 "nbformat": 4,
 "nbformat_minor": 2
}
